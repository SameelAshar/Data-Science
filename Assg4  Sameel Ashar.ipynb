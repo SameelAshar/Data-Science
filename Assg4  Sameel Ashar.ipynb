{
  "nbformat": 4,
  "nbformat_minor": 0,
  "metadata": {
    "colab": {
      "provenance": []
    },
    "kernelspec": {
      "name": "python3",
      "display_name": "Python 3"
    },
    "language_info": {
      "name": "python"
    }
  },
  "cells": [
    {
      "cell_type": "markdown",
      "source": [
        "**LIST**"
      ],
      "metadata": {
        "id": "GTTMWvuHFomJ"
      }
    },
    {
      "cell_type": "markdown",
      "source": [
        "Q1"
      ],
      "metadata": {
        "id": "opHfk1nihDd-"
      }
    },
    {
      "cell_type": "code",
      "execution_count": null,
      "metadata": {
        "colab": {
          "base_uri": "https://localhost:8080/"
        },
        "id": "CNYAU-twfAMP",
        "outputId": "cc619f97-e5a6-4514-8c22-e86f9f8b99a5"
      },
      "outputs": [
        {
          "output_type": "stream",
          "name": "stdout",
          "text": [
            "Enter elements: 1 2 3 4 5 6\n",
            "Alternate elements:\n",
            "1\n",
            "3\n",
            "5\n"
          ]
        }
      ],
      "source": [
        "Userinput = input(\"Enter elements: \")\n",
        "list = Userinput.split()\n",
        "\n",
        "if len(list) % 2 == 0:\n",
        "    start = 0\n",
        "else:\n",
        "    start = 1\n",
        "\n",
        "print(\"Alternate elements:\")\n",
        "for i in range(start, len(list), 2):\n",
        "    print(list[i])\n"
      ]
    },
    {
      "cell_type": "markdown",
      "source": [
        "Q2"
      ],
      "metadata": {
        "id": "BHnXgO34hG0K"
      }
    },
    {
      "cell_type": "code",
      "source": [
        "Userinput = input(\"Enter elements: \")\n",
        "list = Userinput.split()\n",
        "\n",
        "Rev_list = []\n",
        "for i in range(len(list) - 1, -1, -1):\n",
        "    Rev_list.append(list[i])\n",
        "\n",
        "print(\"Reversed:\")\n",
        "for element in Rev_list:\n",
        "    print(element)\n"
      ],
      "metadata": {
        "colab": {
          "base_uri": "https://localhost:8080/"
        },
        "id": "i692eKHNgBt4",
        "outputId": "a4019a9f-9538-4ed9-b2c0-4351dcaade0b"
      },
      "execution_count": null,
      "outputs": [
        {
          "output_type": "stream",
          "name": "stdout",
          "text": [
            "Enter elements: 1 2 3\n",
            "Reversed:\n",
            "3\n",
            "2\n",
            "1\n"
          ]
        }
      ]
    },
    {
      "cell_type": "markdown",
      "source": [
        "Q3"
      ],
      "metadata": {
        "id": "MZTAk96xiG0J"
      }
    },
    {
      "cell_type": "code",
      "source": [
        "Userinput = input(\"Enter elements: \")\n",
        "list = Userinput.split()\n",
        "Lar_num = list[0]   #assuming first element is the largest\n",
        "\n",
        "for num in list:\n",
        "    if float(num) > float(Lar_num):\n",
        "        Lar_num = num\n",
        "\n",
        "print(\"The Largest number:\", Lar_num)\n"
      ],
      "metadata": {
        "colab": {
          "base_uri": "https://localhost:8080/"
        },
        "id": "OM04K48FhfJN",
        "outputId": "e7ffeb1f-48fe-4c18-ebad-65b2ef692e0c"
      },
      "execution_count": null,
      "outputs": [
        {
          "output_type": "stream",
          "name": "stdout",
          "text": [
            "Enter elements:  9 5 4 8\n",
            "The Largest number: 9\n"
          ]
        }
      ]
    },
    {
      "cell_type": "markdown",
      "source": [
        "Q4"
      ],
      "metadata": {
        "id": "-04ycRnEjmSp"
      }
    },
    {
      "cell_type": "code",
      "source": [
        "Userinput = input(\"Enter elements: \")\n",
        "list = Userinput.split()\n",
        "Last_element = list[-1]\n",
        "\n",
        "for i in range(len(list) - 1, 0, -1):\n",
        "    list[i] = list[i - 1]\n",
        "\n",
        "list[0] = Last_element\n",
        "print(\"Rotated list: \", list)\n"
      ],
      "metadata": {
        "colab": {
          "base_uri": "https://localhost:8080/"
        },
        "id": "FkNJlkV7jAkk",
        "outputId": "c2f82801-ee2c-4371-afe0-7219db7e0ac9"
      },
      "execution_count": null,
      "outputs": [
        {
          "output_type": "stream",
          "name": "stdout",
          "text": [
            "Enter elements: 5 7 8\n",
            "Rotated list:  ['8', '5', '7']\n"
          ]
        }
      ]
    },
    {
      "cell_type": "markdown",
      "source": [
        "Q5"
      ],
      "metadata": {
        "id": "WBj6YUpkkOUD"
      }
    },
    {
      "cell_type": "code",
      "source": [
        "print(\"Enter the String: \")\n",
        "text = input()\n",
        "\n",
        "print(\"Enter a Word to Delete: \")\n",
        "word = input()\n",
        "\n",
        "text = text.replace(word, \"\")\n",
        "\n",
        "print(text)"
      ],
      "metadata": {
        "colab": {
          "base_uri": "https://localhost:8080/"
        },
        "id": "c0NX8vqfj_iX",
        "outputId": "10e573d8-a3aa-480d-e877-00aebc4b4cb9"
      },
      "execution_count": null,
      "outputs": [
        {
          "output_type": "stream",
          "name": "stdout",
          "text": [
            "Enter the String: \n",
            "I am Rohail\n",
            "Enter a Word to Delete: \n",
            "am\n",
            "I  Rohail\n"
          ]
        }
      ]
    },
    {
      "cell_type": "markdown",
      "source": [
        "Q6"
      ],
      "metadata": {
        "id": "4j_-CD7clB4e"
      }
    },
    {
      "cell_type": "code",
      "source": [
        "date = input(\"Enter a date in the format mm/dd/yyyy: \")\n",
        "month, day, year = date.split('/')\n",
        "\n",
        "if month == '01':\n",
        "    month_name = 'January'\n",
        "elif month == '02':\n",
        "    month_name = 'February'\n",
        "elif month == '03':\n",
        "    month_name = 'March'\n",
        "elif month == '04':\n",
        "    month_name = 'April'\n",
        "elif month == '05':\n",
        "    month_name = 'May'\n",
        "elif month == '06':\n",
        "    month_name = 'June'\n",
        "elif month == '07':\n",
        "    month_name = 'July'\n",
        "elif month == '08':\n",
        "    month_name = 'August'\n",
        "elif month == '09':\n",
        "    month_name = 'September'\n",
        "elif month == '10':\n",
        "    month_name = 'October'\n",
        "elif month == '11':\n",
        "    month_name = 'November'\n",
        "elif month == '12':\n",
        "    month_name = 'December'\n",
        "\n",
        "print(month_name, day + ',', year)\n"
      ],
      "metadata": {
        "colab": {
          "base_uri": "https://localhost:8080/"
        },
        "id": "JHLITeSykt5v",
        "outputId": "23bedf91-c441-422d-97f6-73f75304edc0"
      },
      "execution_count": null,
      "outputs": [
        {
          "output_type": "stream",
          "name": "stdout",
          "text": [
            "Enter a date in the format mm/dd/yyyy: 03/12/2021\n",
            "March 12, 2021\n"
          ]
        }
      ]
    },
    {
      "cell_type": "markdown",
      "source": [
        "Q7"
      ],
      "metadata": {
        "id": "NVGbqFnBoHdF"
      }
    },
    {
      "cell_type": "code",
      "source": [
        "Input = input(\"Enter a sentence: \")\n",
        "words = Input.split()\n",
        "\n",
        "Capital_Words = ' '.join(word.capitalize() for word in words)\n",
        "\n",
        "print(\"Capitalized sentence:\", Capital_Words)\n"
      ],
      "metadata": {
        "colab": {
          "base_uri": "https://localhost:8080/"
        },
        "id": "YwA6_QpZn7x2",
        "outputId": "cfd41fe3-068b-492c-a40c-83ffefbbb1f2"
      },
      "execution_count": null,
      "outputs": [
        {
          "output_type": "stream",
          "name": "stdout",
          "text": [
            "Enter a sentence: stop and smell the roses\n",
            "Capitalized sentence: Stop And Smell The Roses\n"
          ]
        }
      ]
    },
    {
      "cell_type": "markdown",
      "source": [
        "Q8"
      ],
      "metadata": {
        "id": "XBM45MxnpdCy"
      }
    },
    {
      "cell_type": "code",
      "source": [
        "A = [[6,5,3],         #The given matrix in question wasnt clear to me\n",
        "       [7,4,2],\n",
        "       [6,3,1]]\n",
        "row = 0\n",
        "for i in A:\n",
        "    sum = 0\n",
        "    for j in i:\n",
        "        sum += j\n",
        "    row += 1\n",
        "    print(f\"Sum of Row {row}: {sum}\")"
      ],
      "metadata": {
        "id": "YMNU32LDpSUU",
        "colab": {
          "base_uri": "https://localhost:8080/"
        },
        "outputId": "0db13104-c10a-4d06-db90-280c11ae5db1"
      },
      "execution_count": null,
      "outputs": [
        {
          "output_type": "stream",
          "name": "stdout",
          "text": [
            "Sum of Row 1: 14\n",
            "Sum of Row 2: 13\n",
            "Sum of Row 3: 10\n"
          ]
        }
      ]
    },
    {
      "cell_type": "markdown",
      "source": [
        "Q9"
      ],
      "metadata": {
        "id": "veCm8LFJ6n_6"
      }
    },
    {
      "cell_type": "code",
      "source": [
        "A = [[1,2,3],\n",
        "        [7,8,9]]\n",
        "\n",
        "B = [[4,5,6],\n",
        "        [7,8,9]]\n",
        "\n",
        "if len(A) != len(B) or len(A[0]) != len(B[0]):\n",
        "    print(\"Error!\")\n",
        "else:\n",
        "    C = []\n",
        "\n",
        "    for i in range(len(A)):\n",
        "        temp = []\n",
        "        for j in range(len(A[0])):\n",
        "            temp.append(A[i][j] + B[i][j])\n",
        "        C.append(temp)\n",
        "\n",
        "    print(\"Matrix sum:\")\n",
        "    for row in C:\n",
        "        print(row)\n"
      ],
      "metadata": {
        "colab": {
          "base_uri": "https://localhost:8080/"
        },
        "id": "GoJM_jpu6U87",
        "outputId": "bd1828a2-4635-4c7c-f46f-58f6b02d5fa5"
      },
      "execution_count": null,
      "outputs": [
        {
          "output_type": "stream",
          "name": "stdout",
          "text": [
            "Matrix sum:\n",
            "[5, 7, 9]\n",
            "[14, 16, 18]\n"
          ]
        }
      ]
    },
    {
      "cell_type": "markdown",
      "source": [
        "Q10"
      ],
      "metadata": {
        "id": "9qSfCUAT7w0y"
      }
    },
    {
      "cell_type": "code",
      "source": [
        "A = [[1, 2],\n",
        "        [3, 4]]\n",
        "\n",
        "B = [[5, 6],\n",
        "        [7, 8]]\n",
        "\n",
        "if len(A[0]) != len(B):\n",
        "    print(\"Error!\")\n",
        "else:\n",
        "    C = []\n",
        "\n",
        "    for i in range(len(A)):\n",
        "        row = []\n",
        "        for j in range(len(B[0])):\n",
        "            sum = 0\n",
        "            for k in range(len(B)):\n",
        "                sum += A[i][k] * B[k][j]\n",
        "            row.append(sum)\n",
        "        C.append(row)\n",
        "\n",
        "    print(\"Matrix multiplication:\")\n",
        "    for row in C:\n",
        "        print(row)\n"
      ],
      "metadata": {
        "colab": {
          "base_uri": "https://localhost:8080/"
        },
        "id": "Vd7iCx1s7uZA",
        "outputId": "d056d8ea-acd8-488b-dbd4-40ba17d972c1"
      },
      "execution_count": null,
      "outputs": [
        {
          "output_type": "stream",
          "name": "stdout",
          "text": [
            "Matrix multiplication:\n",
            "[19, 22]\n",
            "[43, 50]\n"
          ]
        }
      ]
    },
    {
      "cell_type": "code",
      "source": [],
      "metadata": {
        "id": "VWAHgLJr8ubq"
      },
      "execution_count": null,
      "outputs": []
    },
    {
      "cell_type": "markdown",
      "source": [
        "**LOOPS**"
      ],
      "metadata": {
        "id": "Y5RyR_Y68_xR"
      }
    },
    {
      "cell_type": "markdown",
      "source": [
        "1"
      ],
      "metadata": {
        "id": "fwXLNuhC9KWy"
      }
    },
    {
      "cell_type": "code",
      "source": [
        "for i in range(1,11):\n",
        "    print(i)"
      ],
      "metadata": {
        "colab": {
          "base_uri": "https://localhost:8080/"
        },
        "id": "Q_rNnlk29CYG",
        "outputId": "f2c25d4a-e49b-4e62-ae5f-c28380ba9392"
      },
      "execution_count": null,
      "outputs": [
        {
          "output_type": "stream",
          "name": "stdout",
          "text": [
            "1\n",
            "2\n",
            "3\n",
            "4\n",
            "5\n",
            "6\n",
            "7\n",
            "8\n",
            "9\n",
            "10\n"
          ]
        }
      ]
    },
    {
      "cell_type": "markdown",
      "source": [
        "2"
      ],
      "metadata": {
        "id": "ew6dDibK9S3t"
      }
    },
    {
      "cell_type": "code",
      "source": [
        "i = 20\n",
        "while i >= 1:\n",
        "    i -= 1\n",
        "    print(\"Result: \", i)"
      ],
      "metadata": {
        "colab": {
          "base_uri": "https://localhost:8080/"
        },
        "id": "Um3Wny7p9NIh",
        "outputId": "e902cb11-964e-4a95-ae5c-c225c5e5dfac"
      },
      "execution_count": null,
      "outputs": [
        {
          "output_type": "stream",
          "name": "stdout",
          "text": [
            "Result:  19\n",
            "Result:  18\n",
            "Result:  17\n",
            "Result:  16\n",
            "Result:  15\n",
            "Result:  14\n",
            "Result:  13\n",
            "Result:  12\n",
            "Result:  11\n",
            "Result:  10\n",
            "Result:  9\n",
            "Result:  8\n",
            "Result:  7\n",
            "Result:  6\n",
            "Result:  5\n",
            "Result:  4\n",
            "Result:  3\n",
            "Result:  2\n",
            "Result:  1\n",
            "Result:  0\n"
          ]
        }
      ]
    },
    {
      "cell_type": "markdown",
      "source": [
        "3"
      ],
      "metadata": {
        "id": "BErmrqrJ92WO"
      }
    },
    {
      "cell_type": "code",
      "source": [
        "for i in range(1,11):\n",
        "    if i % 2 == 0:\n",
        "        print(i)"
      ],
      "metadata": {
        "colab": {
          "base_uri": "https://localhost:8080/"
        },
        "id": "tWgwJ3Ar9oYH",
        "outputId": "fc7bc078-06ca-429c-a9d3-3f673d6fb9d3"
      },
      "execution_count": null,
      "outputs": [
        {
          "output_type": "stream",
          "name": "stdout",
          "text": [
            "2\n",
            "4\n",
            "6\n",
            "8\n",
            "10\n"
          ]
        }
      ]
    },
    {
      "cell_type": "markdown",
      "source": [
        "4"
      ],
      "metadata": {
        "id": "Y5U5Uvx_98YJ"
      }
    },
    {
      "cell_type": "code",
      "source": [
        "num = int(input(\"Enter number: \"))\n",
        "for i in range(1,num+1):\n",
        "    print(i)"
      ],
      "metadata": {
        "colab": {
          "base_uri": "https://localhost:8080/"
        },
        "id": "z2vXl6Rm96RD",
        "outputId": "076d7fa7-0d6a-4dc0-abba-bbfaf2aabd95"
      },
      "execution_count": null,
      "outputs": [
        {
          "output_type": "stream",
          "name": "stdout",
          "text": [
            "Enter number: 6\n",
            "1\n",
            "2\n",
            "3\n",
            "4\n",
            "5\n",
            "6\n"
          ]
        }
      ]
    },
    {
      "cell_type": "markdown",
      "source": [
        "6\n"
      ],
      "metadata": {
        "id": "1Ie3FGSz-NBV"
      }
    },
    {
      "cell_type": "code",
      "source": [
        "for i in range(5):\n",
        "    print(\"Happy Birthday\")"
      ],
      "metadata": {
        "colab": {
          "base_uri": "https://localhost:8080/"
        },
        "id": "4uoyxzMY-GZI",
        "outputId": "f19c3421-c692-4956-d2da-e53c4594f364"
      },
      "execution_count": null,
      "outputs": [
        {
          "output_type": "stream",
          "name": "stdout",
          "text": [
            "Happy Birthday\n",
            "Happy Birthday\n",
            "Happy Birthday\n",
            "Happy Birthday\n",
            "Happy Birthday\n"
          ]
        }
      ]
    },
    {
      "cell_type": "markdown",
      "source": [
        "7"
      ],
      "metadata": {
        "id": "vWD6I1HM-juR"
      }
    },
    {
      "cell_type": "code",
      "source": [
        "number = int(input(\"Enter a number: \"))\n",
        "for num in range(1, number + 1):\n",
        "    print(num * num, end=\" \")\n"
      ],
      "metadata": {
        "colab": {
          "base_uri": "https://localhost:8080/"
        },
        "id": "K88huDfl-gw5",
        "outputId": "4aab4dc9-7882-4bac-c63c-881b09751987"
      },
      "execution_count": null,
      "outputs": [
        {
          "output_type": "stream",
          "name": "stdout",
          "text": [
            "Enter a number: 6\n",
            "1 4 9 16 25 36 "
          ]
        }
      ]
    },
    {
      "cell_type": "markdown",
      "source": [
        "5"
      ],
      "metadata": {
        "id": "7W0GuryQ-ym4"
      }
    },
    {
      "cell_type": "code",
      "source": [
        "num = int(input(\"Enter number: \"))\n",
        "for j in range(1, num+1):\n",
        "    if j % 2 != 0:\n",
        "        print(j)"
      ],
      "metadata": {
        "colab": {
          "base_uri": "https://localhost:8080/"
        },
        "id": "vnn0fzaB-udK",
        "outputId": "8c10c712-65e5-4fcd-968f-155aa582aaec"
      },
      "execution_count": null,
      "outputs": [
        {
          "output_type": "stream",
          "name": "stdout",
          "text": [
            "Enter number: 5\n",
            "1\n",
            "3\n",
            "5\n"
          ]
        }
      ]
    },
    {
      "cell_type": "markdown",
      "source": [
        "8"
      ],
      "metadata": {
        "id": "BzjOz7g-_zx5"
      }
    },
    {
      "cell_type": "code",
      "source": [
        "num = int(input(\"Enter a number: \"))\n",
        "for i in range(1, 11):\n",
        "    result = num * i\n",
        "    print(f\"{num} x {i} = {result}\")\n",
        "\n"
      ],
      "metadata": {
        "colab": {
          "base_uri": "https://localhost:8080/"
        },
        "id": "QsDFr_1f_vgI",
        "outputId": "a0c6b4bc-e4ed-44c9-98bd-3d446c8fa1b3"
      },
      "execution_count": null,
      "outputs": [
        {
          "output_type": "stream",
          "name": "stdout",
          "text": [
            "Enter a number: 9\n",
            "9 x 1 = 9\n",
            "9 x 2 = 18\n",
            "9 x 3 = 27\n",
            "9 x 4 = 36\n",
            "9 x 5 = 45\n",
            "9 x 6 = 54\n",
            "9 x 7 = 63\n",
            "9 x 8 = 72\n",
            "9 x 9 = 81\n",
            "9 x 10 = 90\n"
          ]
        }
      ]
    },
    {
      "cell_type": "markdown",
      "source": [
        "9"
      ],
      "metadata": {
        "id": "tQpgTIt2AGke"
      }
    },
    {
      "cell_type": "code",
      "source": [
        "a = 3\n",
        "d = 4\n",
        "\n",
        "for i in range(8):\n",
        "    term = a + i * d\n",
        "    print(term, end=\" \")\n"
      ],
      "metadata": {
        "colab": {
          "base_uri": "https://localhost:8080/"
        },
        "id": "jfoyrxn3_9xe",
        "outputId": "cdbe12e9-91bc-4325-f89b-35b6be2b19d5"
      },
      "execution_count": null,
      "outputs": [
        {
          "output_type": "stream",
          "name": "stdout",
          "text": [
            "3 7 11 15 19 23 27 31 "
          ]
        }
      ]
    },
    {
      "cell_type": "markdown",
      "source": [
        "10"
      ],
      "metadata": {
        "id": "ePsu4ij7BJ6O"
      }
    },
    {
      "cell_type": "code",
      "source": [
        "a = 2\n",
        "r = 3\n",
        "\n",
        "for i in range(6):\n",
        "    term = a * (r ** i)\n",
        "    print(term, end=\" \")\n"
      ],
      "metadata": {
        "colab": {
          "base_uri": "https://localhost:8080/"
        },
        "id": "rcQS1Hm8BBIB",
        "outputId": "4cc74288-5f17-4384-9c72-4f291d4a4bf5"
      },
      "execution_count": null,
      "outputs": [
        {
          "output_type": "stream",
          "name": "stdout",
          "text": [
            "2 6 18 54 162 486 "
          ]
        }
      ]
    },
    {
      "cell_type": "markdown",
      "source": [
        "11"
      ],
      "metadata": {
        "id": "oKG8vGjaBVGu"
      }
    },
    {
      "cell_type": "code",
      "source": [
        "num = int(input(\"Enter a positive integer: \"))\n",
        "sum = 0\n",
        "\n",
        "for i in range(1, num + 1):\n",
        "    sum += i\n",
        "\n",
        "print(\"The sum of integers upto\", num, \"is:\", sum)\n"
      ],
      "metadata": {
        "colab": {
          "base_uri": "https://localhost:8080/"
        },
        "id": "ZbAziXhsBTl4",
        "outputId": "939e2bab-30c3-41e8-beb8-a7a6231dcf59"
      },
      "execution_count": null,
      "outputs": [
        {
          "output_type": "stream",
          "name": "stdout",
          "text": [
            "Enter a positive integer: 8\n",
            "The sum of integers upto 8 is: 36\n"
          ]
        }
      ]
    },
    {
      "cell_type": "markdown",
      "source": [
        "12"
      ],
      "metadata": {
        "id": "EKCmvzD5B4xw"
      }
    },
    {
      "cell_type": "code",
      "source": [
        "num = int(input(\"Enter a positive integer: \"))\n",
        "reciprocals = 0\n",
        "\n",
        "for i in range(1, num+1):\n",
        "    reciprocals += 1 / i\n",
        "\n",
        "print(\"The sum of reciprocals from: \", round(reciprocals,2))\n"
      ],
      "metadata": {
        "colab": {
          "base_uri": "https://localhost:8080/"
        },
        "id": "fKIDPW4vBrJC",
        "outputId": "96ec0954-54a8-431c-cea8-d21ebb4fb525"
      },
      "execution_count": null,
      "outputs": [
        {
          "output_type": "stream",
          "name": "stdout",
          "text": [
            "Enter a positive integer: 5\n",
            "The sum of reciprocals from:  2.28\n"
          ]
        }
      ]
    },
    {
      "cell_type": "markdown",
      "source": [
        "13"
      ],
      "metadata": {
        "id": "VulmnHm8CoZr"
      }
    },
    {
      "cell_type": "code",
      "source": [
        "total = 0\n",
        "for i in range(5):\n",
        "    number = int(input(\"Enter a number: \"))\n",
        "    total += number\n",
        "\n",
        "print(\"The final running total:\", total)\n"
      ],
      "metadata": {
        "colab": {
          "base_uri": "https://localhost:8080/"
        },
        "id": "f4ohH311CZS1",
        "outputId": "89206dc2-1a1a-493b-9134-b290fd221d8e"
      },
      "execution_count": null,
      "outputs": [
        {
          "output_type": "stream",
          "name": "stdout",
          "text": [
            "Enter a number: 10\n",
            "Enter a number: 15\n",
            "Enter a number: 35\n",
            "Enter a number: 40\n",
            "Enter a number: 50\n",
            "The final running total: 150\n"
          ]
        }
      ]
    },
    {
      "cell_type": "markdown",
      "source": [
        "14"
      ],
      "metadata": {
        "id": "yu9iloHuDaFq"
      }
    },
    {
      "cell_type": "code",
      "source": [
        "num = int(input(\"Enter an integer: \"))\n",
        "\n",
        "if num < 0:\n",
        "    print(\"No factorial for negative numbers\")\n",
        "elif num == 0:\n",
        "    print(\"The factorial of 0 is 1\")\n",
        "else:\n",
        "    factorial = 1\n",
        "    for i in range(1, num + 1):\n",
        "        factorial *= i\n",
        "\n",
        "    print(f\"The factorial of {num} is: {factorial}\")\n"
      ],
      "metadata": {
        "colab": {
          "base_uri": "https://localhost:8080/"
        },
        "id": "9IQOj6LnDCZA",
        "outputId": "56d09a94-977f-4c17-a61c-02e9b903f593"
      },
      "execution_count": null,
      "outputs": [
        {
          "output_type": "stream",
          "name": "stdout",
          "text": [
            "Enter an integer: 6\n",
            "The factorial of 6 is: 720\n"
          ]
        }
      ]
    },
    {
      "cell_type": "markdown",
      "source": [
        "15"
      ],
      "metadata": {
        "id": "AmtxklsDEElE"
      }
    },
    {
      "cell_type": "code",
      "source": [
        "b = int(input(\"Enter the number: \"))\n",
        "e = int(input(\"Enter the number: \"))\n",
        "result = 1\n",
        "\n",
        "if e > 0:\n",
        "    for i in range(e):\n",
        "        result *= b\n",
        "elif e < 0:\n",
        "    for i in range(-e):\n",
        "        result /= b\n",
        "\n",
        "print(f\"The result of {b} power {e} is {round(result,2)}\")\n"
      ],
      "metadata": {
        "colab": {
          "base_uri": "https://localhost:8080/"
        },
        "id": "VTgvFWNyD37g",
        "outputId": "87dbf63e-279c-437c-c0a5-701c7e997d12"
      },
      "execution_count": null,
      "outputs": [
        {
          "output_type": "stream",
          "name": "stdout",
          "text": [
            "Enter the number: 3\n",
            "Enter the number: -3\n",
            "The result of 3 power -3 is 0.04\n"
          ]
        }
      ]
    },
    {
      "cell_type": "code",
      "source": [],
      "metadata": {
        "id": "aXT_icRsE3hg"
      },
      "execution_count": null,
      "outputs": []
    }
  ]
}