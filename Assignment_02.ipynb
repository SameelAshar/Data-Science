{
 "cells": [
  {
   "cell_type": "markdown",
   "metadata": {
    "id": "bb0O0xtk1v9t"
   },
   "source": [
    "## Task 01:\n",
    "\n",
    "Print Your Name with your Father name and Date of birth using suitable escape sequence charactor\n",
    "\n"
   ]
  },
  {
   "cell_type": "code",
   "execution_count": 6,
   "metadata": {
    "id": "U7LLGIkO2Ixa"
   },
   "outputs": [
    {
     "name": "stdout",
     "output_type": "stream",
     "text": [
      "Name: Sameel Ashar\n",
      "father's Name: Ashar\n",
      "Date of Birth: 22/10/2022\n"
     ]
    }
   ],
   "source": [
    "name = \"Sameel Ashar\"\n",
    "father_name = \"Ashar\"\n",
    "dob = \"22/10/2022\"\n",
    "\n",
    "print(\"Name: {}\\nfather's Name: {}\\nDate of Birth: {}\".format(name, father_name, dob))\n"
   ]
  },
  {
   "cell_type": "markdown",
   "metadata": {
    "id": "TU-xwiLV2NgB"
   },
   "source": [
    "# Task 02:\n",
    "\n",
    "Write your small bio using variables and print it using print function"
   ]
  },
  {
   "cell_type": "code",
   "execution_count": 13,
   "metadata": {
    "id": "Dw8w3rwl2wDB"
   },
   "outputs": [
    {
     "name": "stdout",
     "output_type": "stream",
     "text": [
      "Hello, I'm Sameel. I'm 21 years old and work as an Student. My interests include Data science, Machine Learning, Football, and Cricket..\n"
     ]
    }
   ],
   "source": [
    "name = \"Sameel\"\n",
    "age = \"21\"\n",
    "occupation = \"Student\"\n",
    "interests = \"Data science, Machine Learning, Football, and Cricket.\"\n",
    "\n",
    "bio = f\"Hello, I'm {name}. I'm {age} years old and work as an {occupation}. My interests include {interests}.\"\n",
    "\n",
    "print(bio)\n"
   ]
  },
  {
   "cell_type": "markdown",
   "metadata": {
    "id": "F2lcZuDe2ztv"
   },
   "source": [
    "# Task 03:\n",
    "\n",
    "Write a program in which use all the operators we can use in Python"
   ]
  },
  {
   "cell_type": "code",
   "execution_count": 11,
   "metadata": {
    "id": "lEJhzsXh3e7K"
   },
   "outputs": [
    {
     "name": "stdout",
     "output_type": "stream",
     "text": [
      "Arithmetic Operators:\n",
      "Addition: 15\n",
      "Subtraction: 5\n",
      "Multiplication: 50\n",
      "Division: 2.0\n",
      "Modulus: 0\n",
      "Exponentiation: 100000\n",
      "Floor Division: 2\n",
      "\n",
      "Assignment Operators:\n",
      "c = 15\n",
      "c += a -> c = 25\n",
      "c -= a -> c = 15\n",
      "c *= a -> c = 150\n",
      "c /= a -> c = 15.0\n",
      "c %= a -> c = 5.0\n",
      "c **= a -> c = 9765625.0\n",
      "c //= a -> c = 976562.0\n",
      "\n",
      "Comparison Operators:\n",
      "a == b: False\n",
      "a != b: True\n",
      "a > b: True\n",
      "a < b: False\n",
      "a >= b: True\n",
      "a <= b: False\n",
      "\n",
      "Logical Operators:\n",
      "bool1 and bool2: False\n",
      "bool1 or bool2: True\n",
      "not bool1: False\n",
      "\n"
     ]
    }
   ],
   "source": [
    "a = 10\n",
    "b = 5\n",
    "print(\"Arithmetic Operators:\")\n",
    "print(\"Addition:\", a + b)\n",
    "print(\"Subtraction:\", a - b)\n",
    "print(\"Multiplication:\", a * b)\n",
    "print(\"Division:\", a / b)\n",
    "print(\"Modulus:\", a % b)\n",
    "print(\"Exponentiation:\", a ** b)\n",
    "print(\"Floor Division:\", a // b)\n",
    "print()\n",
    "\n",
    "print(\"Assignment Operators:\")\n",
    "c = a + b\n",
    "print(\"c =\", c)\n",
    "c += a\n",
    "print(\"c += a -> c =\", c)\n",
    "c -= a\n",
    "print(\"c -= a -> c =\", c)\n",
    "c *= a\n",
    "print(\"c *= a -> c =\", c)\n",
    "c /= a\n",
    "print(\"c /= a -> c =\", c)\n",
    "c %= a\n",
    "print(\"c %= a -> c =\", c)\n",
    "c **= a\n",
    "print(\"c **= a -> c =\", c)\n",
    "c //= a\n",
    "print(\"c //= a -> c =\", c)\n",
    "print()\n",
    "\n",
    "print(\"Comparison Operators:\")\n",
    "print(\"a == b:\", a == b)\n",
    "print(\"a != b:\", a != b)\n",
    "print(\"a > b:\", a > b)\n",
    "print(\"a < b:\", a < b)\n",
    "print(\"a >= b:\", a >= b)\n",
    "print(\"a <= b:\", a <= b)\n",
    "print()\n",
    "\n",
    "# Logical Operators\n",
    "print(\"Logical Operators:\")\n",
    "bool1 = True\n",
    "bool2 = False\n",
    "print(\"bool1 and bool2:\", bool1 and bool2)\n",
    "print(\"bool1 or bool2:\", bool1 or bool2)\n",
    "print(\"not bool1:\", not bool1)\n",
    "print()\n",
    "\n",
    "\n",
    "\n",
    "\n",
    "\n",
    "\n"
   ]
  },
  {
   "cell_type": "markdown",
   "metadata": {
    "id": "i4N14TJU3l7n"
   },
   "source": [
    "# Task 04:\n",
    "\n",
    "\n",
    "1. Mention Marks of English , Islamiat and Maths out of 100 in 3 different variables\n",
    "\n",
    "2. Mention Variable of Total Marks and assign 300 to it\n",
    "\n",
    "3. Calculate Percentage"
   ]
  },
  {
   "cell_type": "code",
   "execution_count": 15,
   "metadata": {
    "id": "nxojzvRg5PP4"
   },
   "outputs": [
    {
     "name": "stdout",
     "output_type": "stream",
     "text": [
      "percentage is :  91.66666666666666\n"
     ]
    }
   ],
   "source": [
    "english = 90\n",
    "islamiyat = 85\n",
    "maths = 100\n",
    "total = 300\n",
    "percentage = ((english+islamiyat+maths)/total)*100\n",
    "print(\"percentage is : \",percentage)"
   ]
  },
  {
   "cell_type": "code",
   "execution_count": null,
   "metadata": {},
   "outputs": [],
   "source": []
  }
 ],
 "metadata": {
  "colab": {
   "provenance": []
  },
  "kernelspec": {
   "display_name": "Python 3 (ipykernel)",
   "language": "python",
   "name": "python3"
  },
  "language_info": {
   "codemirror_mode": {
    "name": "ipython",
    "version": 3
   },
   "file_extension": ".py",
   "mimetype": "text/x-python",
   "name": "python",
   "nbconvert_exporter": "python",
   "pygments_lexer": "ipython3",
   "version": "3.11.7"
  }
 },
 "nbformat": 4,
 "nbformat_minor": 4
}
